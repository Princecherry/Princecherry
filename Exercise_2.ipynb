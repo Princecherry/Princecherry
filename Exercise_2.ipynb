{
  "nbformat": 4,
  "nbformat_minor": 0,
  "metadata": {
    "colab": {
      "name": "Exercise 2.ipynb",
      "provenance": [],
      "collapsed_sections": [],
      "include_colab_link": true
    },
    "kernelspec": {
      "name": "python3",
      "display_name": "Python 3"
    },
    "language_info": {
      "name": "python"
    }
  },
  "cells": [
    {
      "cell_type": "markdown",
      "metadata": {
        "id": "view-in-github",
        "colab_type": "text"
      },
      "source": [
        "<a href=\"https://colab.research.google.com/github/Princecherry/Princecherry/blob/main/Exercise_2.ipynb\" target=\"_parent\"><img src=\"https://colab.research.google.com/assets/colab-badge.svg\" alt=\"Open In Colab\"/></a>"
      ]
    },
    {
      "cell_type": "markdown",
      "metadata": {
        "id": "JetuxouDs-Vn"
      },
      "source": [
        "1. Program that computes the value of a+ba+bba with given digits as the value of a and b.\n",
        "\n",
        "Hint: Suppose the following input is supplied to the program:\n",
        "9 and 3\n",
        "Then, the output should be:\n",
        "9+39+339=387\n"
      ]
    },
    {
      "cell_type": "code",
      "metadata": {
        "id": "4UMAptT3sunM"
      },
      "source": [
        ""
      ],
      "execution_count": null,
      "outputs": []
    },
    {
      "cell_type": "markdown",
      "metadata": {
        "id": "VemOK_wZtDO7"
      },
      "source": [
        "2. Program to use a list comprehension to square each even number in a list. The list is input by a sequence of comma-separated numbers.\n",
        "\n",
        "Hint:\n",
        "Suppose the following input is supplied to the program:\n",
        "1,2,3,4,5,6,7,8,9\n",
        "Then, the output should be:\n",
        "4,16,36,64"
      ]
    },
    {
      "cell_type": "code",
      "metadata": {
        "id": "63a864j8toWZ"
      },
      "source": [
        ""
      ],
      "execution_count": null,
      "outputs": []
    },
    {
      "cell_type": "markdown",
      "metadata": {
        "id": "274AVD9Lz64A"
      },
      "source": [
        "3. Program which accepts a string as input and print the characters that have even indexes.\n",
        "\n",
        "Hint:\n",
        "If the following string is given as input to the program:\n",
        "\n",
        "S1a2i3R4a5m6I7B8B9A\n",
        "\n",
        "Then, the output of the program should be:\n",
        "\n",
        "SaiRamIBBA"
      ]
    },
    {
      "cell_type": "code",
      "metadata": {
        "id": "-TkYPaqq8Qo-"
      },
      "source": [
        ""
      ],
      "execution_count": null,
      "outputs": []
    },
    {
      "cell_type": "markdown",
      "metadata": {
        "id": "SxdQS5gPto75"
      },
      "source": [
        "4. Program to make a list whose elements are intersection of the above given lists. \n",
        "\n",
        "Hint: \n",
        "With two given lists [204501,204503,204506,204528,204534,204535] and [204512,204524,204535,204503,204528].\n",
        "\n",
        "\n",
        "Intersection is 204503, 204528, 204535"
      ]
    },
    {
      "cell_type": "code",
      "metadata": {
        "id": "CzeFycgc9Uev"
      },
      "source": [
        ""
      ],
      "execution_count": null,
      "outputs": []
    },
    {
      "cell_type": "markdown",
      "metadata": {
        "id": "PqwWaI56xEEF"
      },
      "source": [
        "5. Program to print this list after removing all duplicate values with original order reserved.\n",
        "\n",
        "\n",
        "Hint: With a given list [204501,204503,204506,204528,204534,204535,204512,204524,204535,204503,204528]\n",
        "\n",
        "The output should be: [204501,204503,204506,204512,204524,204528,204534,204535]\n"
      ]
    },
    {
      "cell_type": "code",
      "metadata": {
        "id": "oFJmJiQ29Tw2"
      },
      "source": [
        ""
      ],
      "execution_count": null,
      "outputs": []
    }
  ]
}